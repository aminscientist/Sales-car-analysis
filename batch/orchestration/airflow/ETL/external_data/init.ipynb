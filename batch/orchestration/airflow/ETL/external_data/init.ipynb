{
 "cells": [
  {
   "cell_type": "code",
   "execution_count": 1,
   "id": "initial_id",
   "metadata": {
    "collapsed": true,
    "ExecuteTime": {
     "end_time": "2024-01-29T13:25:12.288670200Z",
     "start_time": "2024-01-29T13:25:11.350609Z"
    }
   },
   "outputs": [],
   "source": [
    "import pandas as pd\n",
    "import random"
   ]
  },
  {
   "cell_type": "code",
   "execution_count": 2,
   "outputs": [
    {
     "ename": "FileNotFoundError",
     "evalue": "[Errno 2] No such file or directory: 'car_sales_data.csv'",
     "output_type": "error",
     "traceback": [
      "\u001B[1;31m---------------------------------------------------------------------------\u001B[0m",
      "\u001B[1;31mFileNotFoundError\u001B[0m                         Traceback (most recent call last)",
      "Cell \u001B[1;32mIn[2], line 2\u001B[0m\n\u001B[0;32m      1\u001B[0m df1\u001B[38;5;241m=\u001B[39m pd\u001B[38;5;241m.\u001B[39mread_csv(\u001B[38;5;124m'\u001B[39m\u001B[38;5;124minfos_cars_f.csv\u001B[39m\u001B[38;5;124m'\u001B[39m)\n\u001B[1;32m----> 2\u001B[0m df2\u001B[38;5;241m=\u001B[39m \u001B[43mpd\u001B[49m\u001B[38;5;241;43m.\u001B[39;49m\u001B[43mread_csv\u001B[49m\u001B[43m(\u001B[49m\u001B[38;5;124;43m'\u001B[39;49m\u001B[38;5;124;43mcar_sales_data.csv\u001B[39;49m\u001B[38;5;124;43m'\u001B[39;49m\u001B[43m,\u001B[49m\u001B[43m \u001B[49m\u001B[43msep\u001B[49m\u001B[38;5;241;43m=\u001B[39;49m\u001B[38;5;124;43m'\u001B[39;49m\u001B[38;5;124;43m;\u001B[39;49m\u001B[38;5;124;43m'\u001B[39;49m\u001B[43m)\u001B[49m\n",
      "File \u001B[1;32m~\\Desktop\\Sales-car-analysis\\lib\\site-packages\\pandas\\io\\parsers\\readers.py:948\u001B[0m, in \u001B[0;36mread_csv\u001B[1;34m(filepath_or_buffer, sep, delimiter, header, names, index_col, usecols, dtype, engine, converters, true_values, false_values, skipinitialspace, skiprows, skipfooter, nrows, na_values, keep_default_na, na_filter, verbose, skip_blank_lines, parse_dates, infer_datetime_format, keep_date_col, date_parser, date_format, dayfirst, cache_dates, iterator, chunksize, compression, thousands, decimal, lineterminator, quotechar, quoting, doublequote, escapechar, comment, encoding, encoding_errors, dialect, on_bad_lines, delim_whitespace, low_memory, memory_map, float_precision, storage_options, dtype_backend)\u001B[0m\n\u001B[0;32m    935\u001B[0m kwds_defaults \u001B[38;5;241m=\u001B[39m _refine_defaults_read(\n\u001B[0;32m    936\u001B[0m     dialect,\n\u001B[0;32m    937\u001B[0m     delimiter,\n\u001B[1;32m   (...)\u001B[0m\n\u001B[0;32m    944\u001B[0m     dtype_backend\u001B[38;5;241m=\u001B[39mdtype_backend,\n\u001B[0;32m    945\u001B[0m )\n\u001B[0;32m    946\u001B[0m kwds\u001B[38;5;241m.\u001B[39mupdate(kwds_defaults)\n\u001B[1;32m--> 948\u001B[0m \u001B[38;5;28;01mreturn\u001B[39;00m \u001B[43m_read\u001B[49m\u001B[43m(\u001B[49m\u001B[43mfilepath_or_buffer\u001B[49m\u001B[43m,\u001B[49m\u001B[43m \u001B[49m\u001B[43mkwds\u001B[49m\u001B[43m)\u001B[49m\n",
      "File \u001B[1;32m~\\Desktop\\Sales-car-analysis\\lib\\site-packages\\pandas\\io\\parsers\\readers.py:611\u001B[0m, in \u001B[0;36m_read\u001B[1;34m(filepath_or_buffer, kwds)\u001B[0m\n\u001B[0;32m    608\u001B[0m _validate_names(kwds\u001B[38;5;241m.\u001B[39mget(\u001B[38;5;124m\"\u001B[39m\u001B[38;5;124mnames\u001B[39m\u001B[38;5;124m\"\u001B[39m, \u001B[38;5;28;01mNone\u001B[39;00m))\n\u001B[0;32m    610\u001B[0m \u001B[38;5;66;03m# Create the parser.\u001B[39;00m\n\u001B[1;32m--> 611\u001B[0m parser \u001B[38;5;241m=\u001B[39m TextFileReader(filepath_or_buffer, \u001B[38;5;241m*\u001B[39m\u001B[38;5;241m*\u001B[39mkwds)\n\u001B[0;32m    613\u001B[0m \u001B[38;5;28;01mif\u001B[39;00m chunksize \u001B[38;5;129;01mor\u001B[39;00m iterator:\n\u001B[0;32m    614\u001B[0m     \u001B[38;5;28;01mreturn\u001B[39;00m parser\n",
      "File \u001B[1;32m~\\Desktop\\Sales-car-analysis\\lib\\site-packages\\pandas\\io\\parsers\\readers.py:1448\u001B[0m, in \u001B[0;36mTextFileReader.__init__\u001B[1;34m(self, f, engine, **kwds)\u001B[0m\n\u001B[0;32m   1445\u001B[0m     \u001B[38;5;28mself\u001B[39m\u001B[38;5;241m.\u001B[39moptions[\u001B[38;5;124m\"\u001B[39m\u001B[38;5;124mhas_index_names\u001B[39m\u001B[38;5;124m\"\u001B[39m] \u001B[38;5;241m=\u001B[39m kwds[\u001B[38;5;124m\"\u001B[39m\u001B[38;5;124mhas_index_names\u001B[39m\u001B[38;5;124m\"\u001B[39m]\n\u001B[0;32m   1447\u001B[0m \u001B[38;5;28mself\u001B[39m\u001B[38;5;241m.\u001B[39mhandles: IOHandles \u001B[38;5;241m|\u001B[39m \u001B[38;5;28;01mNone\u001B[39;00m \u001B[38;5;241m=\u001B[39m \u001B[38;5;28;01mNone\u001B[39;00m\n\u001B[1;32m-> 1448\u001B[0m \u001B[38;5;28mself\u001B[39m\u001B[38;5;241m.\u001B[39m_engine \u001B[38;5;241m=\u001B[39m \u001B[38;5;28;43mself\u001B[39;49m\u001B[38;5;241;43m.\u001B[39;49m\u001B[43m_make_engine\u001B[49m\u001B[43m(\u001B[49m\u001B[43mf\u001B[49m\u001B[43m,\u001B[49m\u001B[43m \u001B[49m\u001B[38;5;28;43mself\u001B[39;49m\u001B[38;5;241;43m.\u001B[39;49m\u001B[43mengine\u001B[49m\u001B[43m)\u001B[49m\n",
      "File \u001B[1;32m~\\Desktop\\Sales-car-analysis\\lib\\site-packages\\pandas\\io\\parsers\\readers.py:1705\u001B[0m, in \u001B[0;36mTextFileReader._make_engine\u001B[1;34m(self, f, engine)\u001B[0m\n\u001B[0;32m   1703\u001B[0m     \u001B[38;5;28;01mif\u001B[39;00m \u001B[38;5;124m\"\u001B[39m\u001B[38;5;124mb\u001B[39m\u001B[38;5;124m\"\u001B[39m \u001B[38;5;129;01mnot\u001B[39;00m \u001B[38;5;129;01min\u001B[39;00m mode:\n\u001B[0;32m   1704\u001B[0m         mode \u001B[38;5;241m+\u001B[39m\u001B[38;5;241m=\u001B[39m \u001B[38;5;124m\"\u001B[39m\u001B[38;5;124mb\u001B[39m\u001B[38;5;124m\"\u001B[39m\n\u001B[1;32m-> 1705\u001B[0m \u001B[38;5;28mself\u001B[39m\u001B[38;5;241m.\u001B[39mhandles \u001B[38;5;241m=\u001B[39m \u001B[43mget_handle\u001B[49m\u001B[43m(\u001B[49m\n\u001B[0;32m   1706\u001B[0m \u001B[43m    \u001B[49m\u001B[43mf\u001B[49m\u001B[43m,\u001B[49m\n\u001B[0;32m   1707\u001B[0m \u001B[43m    \u001B[49m\u001B[43mmode\u001B[49m\u001B[43m,\u001B[49m\n\u001B[0;32m   1708\u001B[0m \u001B[43m    \u001B[49m\u001B[43mencoding\u001B[49m\u001B[38;5;241;43m=\u001B[39;49m\u001B[38;5;28;43mself\u001B[39;49m\u001B[38;5;241;43m.\u001B[39;49m\u001B[43moptions\u001B[49m\u001B[38;5;241;43m.\u001B[39;49m\u001B[43mget\u001B[49m\u001B[43m(\u001B[49m\u001B[38;5;124;43m\"\u001B[39;49m\u001B[38;5;124;43mencoding\u001B[39;49m\u001B[38;5;124;43m\"\u001B[39;49m\u001B[43m,\u001B[49m\u001B[43m \u001B[49m\u001B[38;5;28;43;01mNone\u001B[39;49;00m\u001B[43m)\u001B[49m\u001B[43m,\u001B[49m\n\u001B[0;32m   1709\u001B[0m \u001B[43m    \u001B[49m\u001B[43mcompression\u001B[49m\u001B[38;5;241;43m=\u001B[39;49m\u001B[38;5;28;43mself\u001B[39;49m\u001B[38;5;241;43m.\u001B[39;49m\u001B[43moptions\u001B[49m\u001B[38;5;241;43m.\u001B[39;49m\u001B[43mget\u001B[49m\u001B[43m(\u001B[49m\u001B[38;5;124;43m\"\u001B[39;49m\u001B[38;5;124;43mcompression\u001B[39;49m\u001B[38;5;124;43m\"\u001B[39;49m\u001B[43m,\u001B[49m\u001B[43m \u001B[49m\u001B[38;5;28;43;01mNone\u001B[39;49;00m\u001B[43m)\u001B[49m\u001B[43m,\u001B[49m\n\u001B[0;32m   1710\u001B[0m \u001B[43m    \u001B[49m\u001B[43mmemory_map\u001B[49m\u001B[38;5;241;43m=\u001B[39;49m\u001B[38;5;28;43mself\u001B[39;49m\u001B[38;5;241;43m.\u001B[39;49m\u001B[43moptions\u001B[49m\u001B[38;5;241;43m.\u001B[39;49m\u001B[43mget\u001B[49m\u001B[43m(\u001B[49m\u001B[38;5;124;43m\"\u001B[39;49m\u001B[38;5;124;43mmemory_map\u001B[39;49m\u001B[38;5;124;43m\"\u001B[39;49m\u001B[43m,\u001B[49m\u001B[43m \u001B[49m\u001B[38;5;28;43;01mFalse\u001B[39;49;00m\u001B[43m)\u001B[49m\u001B[43m,\u001B[49m\n\u001B[0;32m   1711\u001B[0m \u001B[43m    \u001B[49m\u001B[43mis_text\u001B[49m\u001B[38;5;241;43m=\u001B[39;49m\u001B[43mis_text\u001B[49m\u001B[43m,\u001B[49m\n\u001B[0;32m   1712\u001B[0m \u001B[43m    \u001B[49m\u001B[43merrors\u001B[49m\u001B[38;5;241;43m=\u001B[39;49m\u001B[38;5;28;43mself\u001B[39;49m\u001B[38;5;241;43m.\u001B[39;49m\u001B[43moptions\u001B[49m\u001B[38;5;241;43m.\u001B[39;49m\u001B[43mget\u001B[49m\u001B[43m(\u001B[49m\u001B[38;5;124;43m\"\u001B[39;49m\u001B[38;5;124;43mencoding_errors\u001B[39;49m\u001B[38;5;124;43m\"\u001B[39;49m\u001B[43m,\u001B[49m\u001B[43m \u001B[49m\u001B[38;5;124;43m\"\u001B[39;49m\u001B[38;5;124;43mstrict\u001B[39;49m\u001B[38;5;124;43m\"\u001B[39;49m\u001B[43m)\u001B[49m\u001B[43m,\u001B[49m\n\u001B[0;32m   1713\u001B[0m \u001B[43m    \u001B[49m\u001B[43mstorage_options\u001B[49m\u001B[38;5;241;43m=\u001B[39;49m\u001B[38;5;28;43mself\u001B[39;49m\u001B[38;5;241;43m.\u001B[39;49m\u001B[43moptions\u001B[49m\u001B[38;5;241;43m.\u001B[39;49m\u001B[43mget\u001B[49m\u001B[43m(\u001B[49m\u001B[38;5;124;43m\"\u001B[39;49m\u001B[38;5;124;43mstorage_options\u001B[39;49m\u001B[38;5;124;43m\"\u001B[39;49m\u001B[43m,\u001B[49m\u001B[43m \u001B[49m\u001B[38;5;28;43;01mNone\u001B[39;49;00m\u001B[43m)\u001B[49m\u001B[43m,\u001B[49m\n\u001B[0;32m   1714\u001B[0m \u001B[43m\u001B[49m\u001B[43m)\u001B[49m\n\u001B[0;32m   1715\u001B[0m \u001B[38;5;28;01massert\u001B[39;00m \u001B[38;5;28mself\u001B[39m\u001B[38;5;241m.\u001B[39mhandles \u001B[38;5;129;01mis\u001B[39;00m \u001B[38;5;129;01mnot\u001B[39;00m \u001B[38;5;28;01mNone\u001B[39;00m\n\u001B[0;32m   1716\u001B[0m f \u001B[38;5;241m=\u001B[39m \u001B[38;5;28mself\u001B[39m\u001B[38;5;241m.\u001B[39mhandles\u001B[38;5;241m.\u001B[39mhandle\n",
      "File \u001B[1;32m~\\Desktop\\Sales-car-analysis\\lib\\site-packages\\pandas\\io\\common.py:863\u001B[0m, in \u001B[0;36mget_handle\u001B[1;34m(path_or_buf, mode, encoding, compression, memory_map, is_text, errors, storage_options)\u001B[0m\n\u001B[0;32m    858\u001B[0m \u001B[38;5;28;01melif\u001B[39;00m \u001B[38;5;28misinstance\u001B[39m(handle, \u001B[38;5;28mstr\u001B[39m):\n\u001B[0;32m    859\u001B[0m     \u001B[38;5;66;03m# Check whether the filename is to be opened in binary mode.\u001B[39;00m\n\u001B[0;32m    860\u001B[0m     \u001B[38;5;66;03m# Binary mode does not support 'encoding' and 'newline'.\u001B[39;00m\n\u001B[0;32m    861\u001B[0m     \u001B[38;5;28;01mif\u001B[39;00m ioargs\u001B[38;5;241m.\u001B[39mencoding \u001B[38;5;129;01mand\u001B[39;00m \u001B[38;5;124m\"\u001B[39m\u001B[38;5;124mb\u001B[39m\u001B[38;5;124m\"\u001B[39m \u001B[38;5;129;01mnot\u001B[39;00m \u001B[38;5;129;01min\u001B[39;00m ioargs\u001B[38;5;241m.\u001B[39mmode:\n\u001B[0;32m    862\u001B[0m         \u001B[38;5;66;03m# Encoding\u001B[39;00m\n\u001B[1;32m--> 863\u001B[0m         handle \u001B[38;5;241m=\u001B[39m \u001B[38;5;28;43mopen\u001B[39;49m\u001B[43m(\u001B[49m\n\u001B[0;32m    864\u001B[0m \u001B[43m            \u001B[49m\u001B[43mhandle\u001B[49m\u001B[43m,\u001B[49m\n\u001B[0;32m    865\u001B[0m \u001B[43m            \u001B[49m\u001B[43mioargs\u001B[49m\u001B[38;5;241;43m.\u001B[39;49m\u001B[43mmode\u001B[49m\u001B[43m,\u001B[49m\n\u001B[0;32m    866\u001B[0m \u001B[43m            \u001B[49m\u001B[43mencoding\u001B[49m\u001B[38;5;241;43m=\u001B[39;49m\u001B[43mioargs\u001B[49m\u001B[38;5;241;43m.\u001B[39;49m\u001B[43mencoding\u001B[49m\u001B[43m,\u001B[49m\n\u001B[0;32m    867\u001B[0m \u001B[43m            \u001B[49m\u001B[43merrors\u001B[49m\u001B[38;5;241;43m=\u001B[39;49m\u001B[43merrors\u001B[49m\u001B[43m,\u001B[49m\n\u001B[0;32m    868\u001B[0m \u001B[43m            \u001B[49m\u001B[43mnewline\u001B[49m\u001B[38;5;241;43m=\u001B[39;49m\u001B[38;5;124;43m\"\u001B[39;49m\u001B[38;5;124;43m\"\u001B[39;49m\u001B[43m,\u001B[49m\n\u001B[0;32m    869\u001B[0m \u001B[43m        \u001B[49m\u001B[43m)\u001B[49m\n\u001B[0;32m    870\u001B[0m     \u001B[38;5;28;01melse\u001B[39;00m:\n\u001B[0;32m    871\u001B[0m         \u001B[38;5;66;03m# Binary mode\u001B[39;00m\n\u001B[0;32m    872\u001B[0m         handle \u001B[38;5;241m=\u001B[39m \u001B[38;5;28mopen\u001B[39m(handle, ioargs\u001B[38;5;241m.\u001B[39mmode)\n",
      "\u001B[1;31mFileNotFoundError\u001B[0m: [Errno 2] No such file or directory: 'car_sales_data.csv'"
     ]
    }
   ],
   "source": [
    "df1= pd.read_csv('infos_cars_f.csv')\n",
    "df2= pd.read_csv('car_sales_data.csv', sep=';')"
   ],
   "metadata": {
    "collapsed": false,
    "ExecuteTime": {
     "end_time": "2024-01-29T13:25:13.012877300Z",
     "start_time": "2024-01-29T13:25:12.288670200Z"
    }
   },
   "id": "982dd3d7657f30e4"
  },
  {
   "cell_type": "code",
   "execution_count": 47,
   "outputs": [
    {
     "data": {
      "text/plain": "    Make      Model    Fuel Vehicle Type Engine Size  Horsepower  \\\n2   Ford      Civic     Gas        Sedan        2.0L         158   \n3   Ford     Altima     Gas        Sedan        2.5L         188   \n6   Ford    Corolla     Gas        Sedan        1.8L         140   \n16  Ford  Silverado     Gas        Truck        5.3L         355   \n23  Ford      F-150  Diesel        Truck        3.5L         450   \n\n   Origin Country Transmission  Kilometers Driven Engine Power Fuel Type  \\\n2             USA       Manual              72000       120 kW  Gasoline   \n3             USA    Automatic             105000       150 kW  Gasoline   \n6             USA       Manual              75000        96 kW  Gasoline   \n16            USA    Automatic             105000       265 kW  Gasoline   \n23            USA    Automatic              95000       335 kW    Diesel   \n\n    Cylinders   Weight     Speed  Doors  EPA Fuel Economy Score  \\\n2           4  1300 kg  190 km/h      4                       8   \n3           4  1400 kg  200 km/h      4                       6   \n6           4  1200 kg  180 km/h      4                       7   \n16          8  2400 kg  210 km/h      4                       5   \n23          6  2200 kg  240 km/h      4                       5   \n\n   Fuel Efficiency Safety Ratings  \n2           32 mpg            5/5  \n3           28 mpg            4/5  \n6           34 mpg            4/5  \n16          20 mpg            4/5  \n23          17 mpg            4/5  ",
      "text/html": "<div>\n<style scoped>\n    .dataframe tbody tr th:only-of-type {\n        vertical-align: middle;\n    }\n\n    .dataframe tbody tr th {\n        vertical-align: top;\n    }\n\n    .dataframe thead th {\n        text-align: right;\n    }\n</style>\n<table border=\"1\" class=\"dataframe\">\n  <thead>\n    <tr style=\"text-align: right;\">\n      <th></th>\n      <th>Make</th>\n      <th>Model</th>\n      <th>Fuel</th>\n      <th>Vehicle Type</th>\n      <th>Engine Size</th>\n      <th>Horsepower</th>\n      <th>Origin Country</th>\n      <th>Transmission</th>\n      <th>Kilometers Driven</th>\n      <th>Engine Power</th>\n      <th>Fuel Type</th>\n      <th>Cylinders</th>\n      <th>Weight</th>\n      <th>Speed</th>\n      <th>Doors</th>\n      <th>EPA Fuel Economy Score</th>\n      <th>Fuel Efficiency</th>\n      <th>Safety Ratings</th>\n    </tr>\n  </thead>\n  <tbody>\n    <tr>\n      <th>2</th>\n      <td>Ford</td>\n      <td>Civic</td>\n      <td>Gas</td>\n      <td>Sedan</td>\n      <td>2.0L</td>\n      <td>158</td>\n      <td>USA</td>\n      <td>Manual</td>\n      <td>72000</td>\n      <td>120 kW</td>\n      <td>Gasoline</td>\n      <td>4</td>\n      <td>1300 kg</td>\n      <td>190 km/h</td>\n      <td>4</td>\n      <td>8</td>\n      <td>32 mpg</td>\n      <td>5/5</td>\n    </tr>\n    <tr>\n      <th>3</th>\n      <td>Ford</td>\n      <td>Altima</td>\n      <td>Gas</td>\n      <td>Sedan</td>\n      <td>2.5L</td>\n      <td>188</td>\n      <td>USA</td>\n      <td>Automatic</td>\n      <td>105000</td>\n      <td>150 kW</td>\n      <td>Gasoline</td>\n      <td>4</td>\n      <td>1400 kg</td>\n      <td>200 km/h</td>\n      <td>4</td>\n      <td>6</td>\n      <td>28 mpg</td>\n      <td>4/5</td>\n    </tr>\n    <tr>\n      <th>6</th>\n      <td>Ford</td>\n      <td>Corolla</td>\n      <td>Gas</td>\n      <td>Sedan</td>\n      <td>1.8L</td>\n      <td>140</td>\n      <td>USA</td>\n      <td>Manual</td>\n      <td>75000</td>\n      <td>96 kW</td>\n      <td>Gasoline</td>\n      <td>4</td>\n      <td>1200 kg</td>\n      <td>180 km/h</td>\n      <td>4</td>\n      <td>7</td>\n      <td>34 mpg</td>\n      <td>4/5</td>\n    </tr>\n    <tr>\n      <th>16</th>\n      <td>Ford</td>\n      <td>Silverado</td>\n      <td>Gas</td>\n      <td>Truck</td>\n      <td>5.3L</td>\n      <td>355</td>\n      <td>USA</td>\n      <td>Automatic</td>\n      <td>105000</td>\n      <td>265 kW</td>\n      <td>Gasoline</td>\n      <td>8</td>\n      <td>2400 kg</td>\n      <td>210 km/h</td>\n      <td>4</td>\n      <td>5</td>\n      <td>20 mpg</td>\n      <td>4/5</td>\n    </tr>\n    <tr>\n      <th>23</th>\n      <td>Ford</td>\n      <td>F-150</td>\n      <td>Diesel</td>\n      <td>Truck</td>\n      <td>3.5L</td>\n      <td>450</td>\n      <td>USA</td>\n      <td>Automatic</td>\n      <td>95000</td>\n      <td>335 kW</td>\n      <td>Diesel</td>\n      <td>6</td>\n      <td>2200 kg</td>\n      <td>240 km/h</td>\n      <td>4</td>\n      <td>5</td>\n      <td>17 mpg</td>\n      <td>4/5</td>\n    </tr>\n  </tbody>\n</table>\n</div>"
     },
     "execution_count": 47,
     "metadata": {},
     "output_type": "execute_result"
    }
   ],
   "source": [
    "df1[df1['Make'] == 'Ford']"
   ],
   "metadata": {
    "collapsed": false,
    "ExecuteTime": {
     "end_time": "2024-01-25T12:58:27.269336700Z",
     "start_time": "2024-01-25T12:58:27.238991700Z"
    }
   },
   "id": "7f82cf0e77508086"
  },
  {
   "cell_type": "code",
   "execution_count": 48,
   "outputs": [
    {
     "name": "stdout",
     "output_type": "stream",
     "text": [
      "<class 'pandas.core.frame.DataFrame'>\n",
      "RangeIndex: 25 entries, 0 to 24\n",
      "Data columns (total 18 columns):\n",
      " #   Column                  Non-Null Count  Dtype \n",
      "---  ------                  --------------  ----- \n",
      " 0   Make                    25 non-null     object\n",
      " 1   Model                   25 non-null     object\n",
      " 2   Fuel                    25 non-null     object\n",
      " 3   Vehicle Type            25 non-null     object\n",
      " 4   Engine Size             25 non-null     object\n",
      " 5   Horsepower              25 non-null     int64 \n",
      " 6   Origin Country          25 non-null     object\n",
      " 7   Transmission            25 non-null     object\n",
      " 8   Kilometers Driven       25 non-null     int64 \n",
      " 9   Engine Power            25 non-null     object\n",
      " 10  Fuel Type               25 non-null     object\n",
      " 11  Cylinders               25 non-null     int64 \n",
      " 12  Weight                  25 non-null     object\n",
      " 13  Speed                   25 non-null     object\n",
      " 14  Doors                   25 non-null     int64 \n",
      " 15  EPA Fuel Economy Score  25 non-null     int64 \n",
      " 16  Fuel Efficiency         25 non-null     object\n",
      " 17  Safety Ratings          25 non-null     object\n",
      "dtypes: int64(5), object(13)\n",
      "memory usage: 3.6+ KB\n"
     ]
    }
   ],
   "source": [
    "df1.info()"
   ],
   "metadata": {
    "collapsed": false,
    "ExecuteTime": {
     "end_time": "2024-01-25T12:58:30.968188300Z",
     "start_time": "2024-01-25T12:58:30.949471300Z"
    }
   },
   "id": "2902b865b900d957"
  },
  {
   "cell_type": "code",
   "execution_count": 49,
   "outputs": [
    {
     "name": "stdout",
     "output_type": "stream",
     "text": [
      "[('Nissan', 'Altima'), ('Nissan', 'F-150'), ('Ford', 'Civic'), ('Ford', 'Altima'), ('Honda', 'Silverado'), ('Honda', 'F-150'), ('Ford', 'Corolla'), ('Toyota', 'Silverado'), ('Toyota', 'F-150'), ('Chevrolet', 'Altima'), ('Honda', 'Corolla'), ('Nissan', 'Silverado'), ('Toyota', 'Civic'), ('Nissan', 'Civic'), ('Chevrolet', 'F-150'), ('Chevrolet', 'Silverado'), ('Ford', 'Silverado'), ('Toyota', 'Altima'), ('Chevrolet', 'Civic'), ('Chevrolet', 'Corolla'), ('Honda', 'Civic'), ('Nissan', 'Corolla'), ('Toyota', 'Corolla'), ('Ford', 'F-150'), ('Honda', 'Altima')]\n"
     ]
    }
   ],
   "source": [
    "# Supprimer les doublons\n",
    "unique_pairs = df2[['Car Make', 'Car Model']].drop_duplicates()\n",
    "\n",
    "# Convertir le DataFrame résultant en liste de tuples\n",
    "result_list = [tuple(x) for x in unique_pairs.values]\n",
    "\n",
    "# Afficher le résultat\n",
    "print(result_list)"
   ],
   "metadata": {
    "collapsed": false,
    "ExecuteTime": {
     "end_time": "2024-01-25T12:58:33.688335200Z",
     "start_time": "2024-01-25T12:58:33.581324400Z"
    }
   },
   "id": "d988f858531160a6"
  },
  {
   "cell_type": "code",
   "execution_count": 50,
   "outputs": [
    {
     "data": {
      "text/plain": "               Date        Salesperson      Customer Name   Car Make  \\\n0        01/08/2022    Monica Moore MD        Mary Butler     Nissan   \n1        15/03/2023       Roberto Rose     Richard Pierce     Nissan   \n2        29/04/2023       Ashley Ramos       Sandra Moore       Ford   \n3        04/09/2022     Patrick Harris       Johnny Scott       Ford   \n4        16/06/2022         Eric Lopez      Vanessa Jones      Honda   \n...             ...                ...                ...        ...   \n1048570  22/03/2023  Jean Stevenson MD  Jeffrey Hernandez       Ford   \n1048571  12/02/2023    Daniel Odonnell         Amy Flores       Ford   \n1048572  17/10/2022        Paul Foster        Lucas Frank       Ford   \n1048573  21/12/2022       Brett Hansen      Natasha Payne     Nissan   \n1048574  19/02/2023    Benjamin Lawson       Daniel Hayes  Chevrolet   \n\n         Car Model  Car Year  Sale Price  Commission Rate  Commission Earned  \n0           Altima      2018       15983         0.070495            1126.73  \n1            F-150      2016       38474         0.134439            5172.40  \n2            Civic      2016       33340         0.114536            3818.63  \n3           Altima      2013       41937         0.092191            3866.20  \n4        Silverado      2022       20256         0.113490            2298.85  \n...            ...       ...         ...              ...                ...  \n1048570  Silverado      2015       41043         0.107835            4425.89  \n1048571      Civic      2010       23958         0.067569            1618.81  \n1048572    Corolla      2021       43768         0.138509            6062.26  \n1048573     Altima      2010       33733         0.136388            4600.77  \n1048574      F-150      2019       19352         0.126393            2445.96  \n\n[1048575 rows x 9 columns]",
      "text/html": "<div>\n<style scoped>\n    .dataframe tbody tr th:only-of-type {\n        vertical-align: middle;\n    }\n\n    .dataframe tbody tr th {\n        vertical-align: top;\n    }\n\n    .dataframe thead th {\n        text-align: right;\n    }\n</style>\n<table border=\"1\" class=\"dataframe\">\n  <thead>\n    <tr style=\"text-align: right;\">\n      <th></th>\n      <th>Date</th>\n      <th>Salesperson</th>\n      <th>Customer Name</th>\n      <th>Car Make</th>\n      <th>Car Model</th>\n      <th>Car Year</th>\n      <th>Sale Price</th>\n      <th>Commission Rate</th>\n      <th>Commission Earned</th>\n    </tr>\n  </thead>\n  <tbody>\n    <tr>\n      <th>0</th>\n      <td>01/08/2022</td>\n      <td>Monica Moore MD</td>\n      <td>Mary Butler</td>\n      <td>Nissan</td>\n      <td>Altima</td>\n      <td>2018</td>\n      <td>15983</td>\n      <td>0.070495</td>\n      <td>1126.73</td>\n    </tr>\n    <tr>\n      <th>1</th>\n      <td>15/03/2023</td>\n      <td>Roberto Rose</td>\n      <td>Richard Pierce</td>\n      <td>Nissan</td>\n      <td>F-150</td>\n      <td>2016</td>\n      <td>38474</td>\n      <td>0.134439</td>\n      <td>5172.40</td>\n    </tr>\n    <tr>\n      <th>2</th>\n      <td>29/04/2023</td>\n      <td>Ashley Ramos</td>\n      <td>Sandra Moore</td>\n      <td>Ford</td>\n      <td>Civic</td>\n      <td>2016</td>\n      <td>33340</td>\n      <td>0.114536</td>\n      <td>3818.63</td>\n    </tr>\n    <tr>\n      <th>3</th>\n      <td>04/09/2022</td>\n      <td>Patrick Harris</td>\n      <td>Johnny Scott</td>\n      <td>Ford</td>\n      <td>Altima</td>\n      <td>2013</td>\n      <td>41937</td>\n      <td>0.092191</td>\n      <td>3866.20</td>\n    </tr>\n    <tr>\n      <th>4</th>\n      <td>16/06/2022</td>\n      <td>Eric Lopez</td>\n      <td>Vanessa Jones</td>\n      <td>Honda</td>\n      <td>Silverado</td>\n      <td>2022</td>\n      <td>20256</td>\n      <td>0.113490</td>\n      <td>2298.85</td>\n    </tr>\n    <tr>\n      <th>...</th>\n      <td>...</td>\n      <td>...</td>\n      <td>...</td>\n      <td>...</td>\n      <td>...</td>\n      <td>...</td>\n      <td>...</td>\n      <td>...</td>\n      <td>...</td>\n    </tr>\n    <tr>\n      <th>1048570</th>\n      <td>22/03/2023</td>\n      <td>Jean Stevenson MD</td>\n      <td>Jeffrey Hernandez</td>\n      <td>Ford</td>\n      <td>Silverado</td>\n      <td>2015</td>\n      <td>41043</td>\n      <td>0.107835</td>\n      <td>4425.89</td>\n    </tr>\n    <tr>\n      <th>1048571</th>\n      <td>12/02/2023</td>\n      <td>Daniel Odonnell</td>\n      <td>Amy Flores</td>\n      <td>Ford</td>\n      <td>Civic</td>\n      <td>2010</td>\n      <td>23958</td>\n      <td>0.067569</td>\n      <td>1618.81</td>\n    </tr>\n    <tr>\n      <th>1048572</th>\n      <td>17/10/2022</td>\n      <td>Paul Foster</td>\n      <td>Lucas Frank</td>\n      <td>Ford</td>\n      <td>Corolla</td>\n      <td>2021</td>\n      <td>43768</td>\n      <td>0.138509</td>\n      <td>6062.26</td>\n    </tr>\n    <tr>\n      <th>1048573</th>\n      <td>21/12/2022</td>\n      <td>Brett Hansen</td>\n      <td>Natasha Payne</td>\n      <td>Nissan</td>\n      <td>Altima</td>\n      <td>2010</td>\n      <td>33733</td>\n      <td>0.136388</td>\n      <td>4600.77</td>\n    </tr>\n    <tr>\n      <th>1048574</th>\n      <td>19/02/2023</td>\n      <td>Benjamin Lawson</td>\n      <td>Daniel Hayes</td>\n      <td>Chevrolet</td>\n      <td>F-150</td>\n      <td>2019</td>\n      <td>19352</td>\n      <td>0.126393</td>\n      <td>2445.96</td>\n    </tr>\n  </tbody>\n</table>\n<p>1048575 rows × 9 columns</p>\n</div>"
     },
     "execution_count": 50,
     "metadata": {},
     "output_type": "execute_result"
    }
   ],
   "source": [
    "df2"
   ],
   "metadata": {
    "collapsed": false,
    "ExecuteTime": {
     "end_time": "2024-01-25T12:58:36.290265Z",
     "start_time": "2024-01-25T12:58:36.086726200Z"
    }
   },
   "id": "ebf7785014f4646b"
  },
  {
   "cell_type": "code",
   "execution_count": 51,
   "outputs": [
    {
     "name": "stdout",
     "output_type": "stream",
     "text": [
      "<class 'pandas.core.frame.DataFrame'>\n",
      "RangeIndex: 1048575 entries, 0 to 1048574\n",
      "Data columns (total 9 columns):\n",
      " #   Column             Non-Null Count    Dtype  \n",
      "---  ------             --------------    -----  \n",
      " 0   Date               1048575 non-null  object \n",
      " 1   Salesperson        1048575 non-null  object \n",
      " 2   Customer Name      1048575 non-null  object \n",
      " 3   Car Make           1048575 non-null  object \n",
      " 4   Car Model          1048575 non-null  object \n",
      " 5   Car Year           1048575 non-null  int64  \n",
      " 6   Sale Price         1048575 non-null  int64  \n",
      " 7   Commission Rate    1048575 non-null  float64\n",
      " 8   Commission Earned  1048575 non-null  float64\n",
      "dtypes: float64(2), int64(2), object(5)\n",
      "memory usage: 72.0+ MB\n"
     ]
    }
   ],
   "source": [
    "df2.info()"
   ],
   "metadata": {
    "collapsed": false,
    "ExecuteTime": {
     "end_time": "2024-01-25T12:58:40.867034300Z",
     "start_time": "2024-01-25T12:58:39.510332500Z"
    }
   },
   "id": "ed13a854e1df77c7"
  },
  {
   "cell_type": "code",
   "execution_count": 52,
   "outputs": [],
   "source": [
    "african_countries = ['Algeria', 'Benin', 'Botswana', 'Burkina Faso', 'Cameroon', 'Central African Republic', 'Chad', 'Comoros', 'Congo', 'Djibouti', 'Egypt', 'Equatorial Guinea', 'Ethiopia', 'Gabon', 'Gambia', 'Ghana', 'Guinea', 'Guinea-Bissau', 'Ivory Coast', 'Kenya', 'Liberia', 'Libya', 'Madagascar', 'Mali', 'Mauritania', 'Mauritius', 'Nigeria', 'Rwanda', 'Senegal', 'Sierra Leone', 'Somalia', 'South Africa', 'Sudan', 'Tanzania', 'Togo', 'Tunisia', 'Zambia']\n",
    "\n",
    "# Create a dictionary to store assigned countries for each customer name\n",
    "customer_country_dict = {}\n",
    "\n",
    "# Iterate through the DataFrame and assign countries\n",
    "for index, row in df2.iterrows():\n",
    "    customer_name = row['Customer Name']\n",
    "    \n",
    "    # Check if the customer name is already in the dictionary\n",
    "    if customer_name in customer_country_dict:\n",
    "        assigned_country = customer_country_dict[customer_name]\n",
    "    else:\n",
    "        # If not, assign a random country and update the dictionary\n",
    "        assigned_country = random.choice(african_countries)\n",
    "        customer_country_dict[customer_name] = assigned_country\n",
    "    \n",
    "    # Assign the country to the 'Country' column\n",
    "    df2.at[index, 'Country'] = assigned_country"
   ],
   "metadata": {
    "collapsed": false,
    "ExecuteTime": {
     "end_time": "2024-01-25T12:58:40.969986Z",
     "start_time": "2024-01-25T12:58:39.511529700Z"
    }
   },
   "id": "b476737a7a3cc811"
  },
  {
   "cell_type": "code",
   "execution_count": 53,
   "outputs": [
    {
     "data": {
      "text/plain": "               Date        Salesperson      Customer Name   Car Make  \\\n0        01/08/2022    Monica Moore MD        Mary Butler     Nissan   \n1        15/03/2023       Roberto Rose     Richard Pierce     Nissan   \n2        29/04/2023       Ashley Ramos       Sandra Moore       Ford   \n3        04/09/2022     Patrick Harris       Johnny Scott       Ford   \n4        16/06/2022         Eric Lopez      Vanessa Jones      Honda   \n...             ...                ...                ...        ...   \n1048570  22/03/2023  Jean Stevenson MD  Jeffrey Hernandez       Ford   \n1048571  12/02/2023    Daniel Odonnell         Amy Flores       Ford   \n1048572  17/10/2022        Paul Foster        Lucas Frank       Ford   \n1048573  21/12/2022       Brett Hansen      Natasha Payne     Nissan   \n1048574  19/02/2023    Benjamin Lawson       Daniel Hayes  Chevrolet   \n\n         Car Model  Car Year  Sale Price  Commission Rate  Commission Earned  \\\n0           Altima      2018       15983         0.070495            1126.73   \n1            F-150      2016       38474         0.134439            5172.40   \n2            Civic      2016       33340         0.114536            3818.63   \n3           Altima      2013       41937         0.092191            3866.20   \n4        Silverado      2022       20256         0.113490            2298.85   \n...            ...       ...         ...              ...                ...   \n1048570  Silverado      2015       41043         0.107835            4425.89   \n1048571      Civic      2010       23958         0.067569            1618.81   \n1048572    Corolla      2021       43768         0.138509            6062.26   \n1048573     Altima      2010       33733         0.136388            4600.77   \n1048574      F-150      2019       19352         0.126393            2445.96   \n\n                   Country  \n0                  Comoros  \n1                Mauritius  \n2                Mauritius  \n3        Equatorial Guinea  \n4                    Egypt  \n...                    ...  \n1048570               Chad  \n1048571       South Africa  \n1048572             Zambia  \n1048573       Burkina Faso  \n1048574           Djibouti  \n\n[1048575 rows x 10 columns]",
      "text/html": "<div>\n<style scoped>\n    .dataframe tbody tr th:only-of-type {\n        vertical-align: middle;\n    }\n\n    .dataframe tbody tr th {\n        vertical-align: top;\n    }\n\n    .dataframe thead th {\n        text-align: right;\n    }\n</style>\n<table border=\"1\" class=\"dataframe\">\n  <thead>\n    <tr style=\"text-align: right;\">\n      <th></th>\n      <th>Date</th>\n      <th>Salesperson</th>\n      <th>Customer Name</th>\n      <th>Car Make</th>\n      <th>Car Model</th>\n      <th>Car Year</th>\n      <th>Sale Price</th>\n      <th>Commission Rate</th>\n      <th>Commission Earned</th>\n      <th>Country</th>\n    </tr>\n  </thead>\n  <tbody>\n    <tr>\n      <th>0</th>\n      <td>01/08/2022</td>\n      <td>Monica Moore MD</td>\n      <td>Mary Butler</td>\n      <td>Nissan</td>\n      <td>Altima</td>\n      <td>2018</td>\n      <td>15983</td>\n      <td>0.070495</td>\n      <td>1126.73</td>\n      <td>Comoros</td>\n    </tr>\n    <tr>\n      <th>1</th>\n      <td>15/03/2023</td>\n      <td>Roberto Rose</td>\n      <td>Richard Pierce</td>\n      <td>Nissan</td>\n      <td>F-150</td>\n      <td>2016</td>\n      <td>38474</td>\n      <td>0.134439</td>\n      <td>5172.40</td>\n      <td>Mauritius</td>\n    </tr>\n    <tr>\n      <th>2</th>\n      <td>29/04/2023</td>\n      <td>Ashley Ramos</td>\n      <td>Sandra Moore</td>\n      <td>Ford</td>\n      <td>Civic</td>\n      <td>2016</td>\n      <td>33340</td>\n      <td>0.114536</td>\n      <td>3818.63</td>\n      <td>Mauritius</td>\n    </tr>\n    <tr>\n      <th>3</th>\n      <td>04/09/2022</td>\n      <td>Patrick Harris</td>\n      <td>Johnny Scott</td>\n      <td>Ford</td>\n      <td>Altima</td>\n      <td>2013</td>\n      <td>41937</td>\n      <td>0.092191</td>\n      <td>3866.20</td>\n      <td>Equatorial Guinea</td>\n    </tr>\n    <tr>\n      <th>4</th>\n      <td>16/06/2022</td>\n      <td>Eric Lopez</td>\n      <td>Vanessa Jones</td>\n      <td>Honda</td>\n      <td>Silverado</td>\n      <td>2022</td>\n      <td>20256</td>\n      <td>0.113490</td>\n      <td>2298.85</td>\n      <td>Egypt</td>\n    </tr>\n    <tr>\n      <th>...</th>\n      <td>...</td>\n      <td>...</td>\n      <td>...</td>\n      <td>...</td>\n      <td>...</td>\n      <td>...</td>\n      <td>...</td>\n      <td>...</td>\n      <td>...</td>\n      <td>...</td>\n    </tr>\n    <tr>\n      <th>1048570</th>\n      <td>22/03/2023</td>\n      <td>Jean Stevenson MD</td>\n      <td>Jeffrey Hernandez</td>\n      <td>Ford</td>\n      <td>Silverado</td>\n      <td>2015</td>\n      <td>41043</td>\n      <td>0.107835</td>\n      <td>4425.89</td>\n      <td>Chad</td>\n    </tr>\n    <tr>\n      <th>1048571</th>\n      <td>12/02/2023</td>\n      <td>Daniel Odonnell</td>\n      <td>Amy Flores</td>\n      <td>Ford</td>\n      <td>Civic</td>\n      <td>2010</td>\n      <td>23958</td>\n      <td>0.067569</td>\n      <td>1618.81</td>\n      <td>South Africa</td>\n    </tr>\n    <tr>\n      <th>1048572</th>\n      <td>17/10/2022</td>\n      <td>Paul Foster</td>\n      <td>Lucas Frank</td>\n      <td>Ford</td>\n      <td>Corolla</td>\n      <td>2021</td>\n      <td>43768</td>\n      <td>0.138509</td>\n      <td>6062.26</td>\n      <td>Zambia</td>\n    </tr>\n    <tr>\n      <th>1048573</th>\n      <td>21/12/2022</td>\n      <td>Brett Hansen</td>\n      <td>Natasha Payne</td>\n      <td>Nissan</td>\n      <td>Altima</td>\n      <td>2010</td>\n      <td>33733</td>\n      <td>0.136388</td>\n      <td>4600.77</td>\n      <td>Burkina Faso</td>\n    </tr>\n    <tr>\n      <th>1048574</th>\n      <td>19/02/2023</td>\n      <td>Benjamin Lawson</td>\n      <td>Daniel Hayes</td>\n      <td>Chevrolet</td>\n      <td>F-150</td>\n      <td>2019</td>\n      <td>19352</td>\n      <td>0.126393</td>\n      <td>2445.96</td>\n      <td>Djibouti</td>\n    </tr>\n  </tbody>\n</table>\n<p>1048575 rows × 10 columns</p>\n</div>"
     },
     "execution_count": 53,
     "metadata": {},
     "output_type": "execute_result"
    }
   ],
   "source": [
    "df2"
   ],
   "metadata": {
    "collapsed": false,
    "ExecuteTime": {
     "end_time": "2024-01-25T12:58:41.139783200Z",
     "start_time": "2024-01-25T12:58:40.893398400Z"
    }
   },
   "id": "eb70ff5a1d8c4df7"
  },
  {
   "cell_type": "code",
   "execution_count": 54,
   "outputs": [],
   "source": [
    "df2.to_csv('f_cars_sales.csv', index=False)"
   ],
   "metadata": {
    "collapsed": false,
    "ExecuteTime": {
     "end_time": "2024-01-25T13:00:08.938742300Z",
     "start_time": "2024-01-25T13:00:03.587508500Z"
    }
   },
   "id": "c3c971d1accb70ca"
  },
  {
   "cell_type": "code",
   "execution_count": null,
   "outputs": [],
   "source": [],
   "metadata": {
    "collapsed": false
   },
   "id": "e348c61e6909f4c7"
  }
 ],
 "metadata": {
  "kernelspec": {
   "display_name": "Python 3",
   "language": "python",
   "name": "python3"
  },
  "language_info": {
   "codemirror_mode": {
    "name": "ipython",
    "version": 2
   },
   "file_extension": ".py",
   "mimetype": "text/x-python",
   "name": "python",
   "nbconvert_exporter": "python",
   "pygments_lexer": "ipython2",
   "version": "2.7.6"
  }
 },
 "nbformat": 4,
 "nbformat_minor": 5
}
